{
 "cells": [
  {
   "cell_type": "code",
   "execution_count": null,
   "metadata": {},
   "outputs": [
    {
     "ename": "",
     "evalue": "",
     "output_type": "error",
     "traceback": [
      "\u001b[1;31mRunning cells with 'envFinaLytics (Python 3.11.9)' requires the ipykernel package.\n",
      "\u001b[1;31mRun the following command to install 'ipykernel' into the Python environment. \n",
      "\u001b[1;31mCommand: 'd:/FinaLytics/envFinaLytics/Scripts/python.exe -m pip install ipykernel -U --force-reinstall'"
     ]
    }
   ],
   "source": [
    "import yfinance as yf\n",
    "import pandas as pd\n",
    "\n",
    "symbol = 'GOOG'\n",
    "\n",
    "\n",
    "stock = yf.Ticker(symbol)\n",
    "\n",
    "stock.info"
   ]
  },
  {
   "cell_type": "code",
   "execution_count": 15,
   "metadata": {},
   "outputs": [
    {
     "data": {
      "text/plain": [
       "{'address1': 'One Microsoft Way',\n",
       " 'city': 'Redmond',\n",
       " 'state': 'WA',\n",
       " 'zip': '98052-6399',\n",
       " 'country': 'United States',\n",
       " 'phone': '425 882 8080',\n",
       " 'website': 'https://www.microsoft.com',\n",
       " 'industry': 'Software - Infrastructure',\n",
       " 'industryKey': 'software-infrastructure',\n",
       " 'industryDisp': 'Software - Infrastructure',\n",
       " 'sector': 'Technology',\n",
       " 'sectorKey': 'technology',\n",
       " 'sectorDisp': 'Technology',\n",
       " 'longBusinessSummary': 'Microsoft Corporation develops and supports software, services, devices and solutions worldwide. The Productivity and Business Processes segment offers office, exchange, SharePoint, Microsoft Teams, office 365 Security and Compliance, Microsoft viva, and Microsoft 365 copilot; and office consumer services, such as Microsoft 365 consumer subscriptions, Office licensed on-premises, and other office services. This segment also provides LinkedIn; and dynamics business solutions, including Dynamics 365, a set of intelligent, cloud-based applications across ERP, CRM, power apps, and power automate; and on-premises ERP and CRM applications. The Intelligent Cloud segment offers server products and cloud services, such as azure and other cloud services; SQL and windows server, visual studio, system center, and related client access licenses, as well as nuance and GitHub; and enterprise services including enterprise support services, industry solutions, and nuance professional services. The More Personal Computing segment offers Windows, including windows OEM licensing and other non-volume licensing of the Windows operating system; Windows commercial comprising volume licensing of the Windows operating system, windows cloud services, and other Windows commercial offerings; patent licensing; and windows Internet of Things; and devices, such as surface, HoloLens, and PC accessories. Additionally, this segment provides gaming, which includes Xbox hardware and content, and first- and third-party content; Xbox game pass and other subscriptions, cloud gaming, advertising, third-party disc royalties, and other cloud services; and search and news advertising, which includes Bing, Microsoft News and Edge, and third-party affiliates. The company sells its products through OEMs, distributors, and resellers; and directly through digital marketplaces, online, and retail stores. The company was founded in 1975 and is headquartered in Redmond, Washington.',\n",
       " 'fullTimeEmployees': 228000,\n",
       " 'companyOfficers': [{'maxAge': 1,\n",
       "   'name': 'Mr. Satya  Nadella',\n",
       "   'age': 56,\n",
       "   'title': 'Chairman & CEO',\n",
       "   'yearBorn': 1967,\n",
       "   'fiscalYear': 2023,\n",
       "   'totalPay': 9276400,\n",
       "   'exercisedValue': 0,\n",
       "   'unexercisedValue': 0},\n",
       "  {'maxAge': 1,\n",
       "   'name': 'Mr. Bradford L. Smith LCA',\n",
       "   'age': 64,\n",
       "   'title': 'President & Vice Chairman',\n",
       "   'yearBorn': 1959,\n",
       "   'fiscalYear': 2023,\n",
       "   'totalPay': 3591277,\n",
       "   'exercisedValue': 0,\n",
       "   'unexercisedValue': 0},\n",
       "  {'maxAge': 1,\n",
       "   'name': 'Ms. Amy E. Hood',\n",
       "   'age': 51,\n",
       "   'title': 'Executive VP & CFO',\n",
       "   'yearBorn': 1972,\n",
       "   'fiscalYear': 2023,\n",
       "   'totalPay': 3452196,\n",
       "   'exercisedValue': 0,\n",
       "   'unexercisedValue': 0},\n",
       "  {'maxAge': 1,\n",
       "   'name': 'Mr. Judson B. Althoff',\n",
       "   'age': 50,\n",
       "   'title': 'Executive VP & Chief Commercial Officer',\n",
       "   'yearBorn': 1973,\n",
       "   'fiscalYear': 2023,\n",
       "   'totalPay': 3355797,\n",
       "   'exercisedValue': 0,\n",
       "   'unexercisedValue': 0},\n",
       "  {'maxAge': 1,\n",
       "   'name': 'Mr. Christopher David Young',\n",
       "   'age': 51,\n",
       "   'title': 'Executive Vice President of Business Development, Strategy & Ventures',\n",
       "   'yearBorn': 1972,\n",
       "   'fiscalYear': 2023,\n",
       "   'totalPay': 2460507,\n",
       "   'exercisedValue': 0,\n",
       "   'unexercisedValue': 0},\n",
       "  {'maxAge': 1,\n",
       "   'name': 'Ms. Alice L. Jolla',\n",
       "   'age': 57,\n",
       "   'title': 'Corporate VP & Chief Accounting Officer',\n",
       "   'yearBorn': 1966,\n",
       "   'fiscalYear': 2023,\n",
       "   'exercisedValue': 0,\n",
       "   'unexercisedValue': 0},\n",
       "  {'maxAge': 1,\n",
       "   'name': 'Mr. James Kevin Scott',\n",
       "   'age': 51,\n",
       "   'title': 'Executive VP of AI & CTO',\n",
       "   'yearBorn': 1972,\n",
       "   'fiscalYear': 2023,\n",
       "   'exercisedValue': 0,\n",
       "   'unexercisedValue': 0},\n",
       "  {'maxAge': 1,\n",
       "   'name': 'Brett  Iversen',\n",
       "   'title': 'Vice President of Investor Relations',\n",
       "   'fiscalYear': 2023,\n",
       "   'exercisedValue': 0,\n",
       "   'unexercisedValue': 0},\n",
       "  {'maxAge': 1,\n",
       "   'name': 'Mr. Hossein  Nowbar',\n",
       "   'title': 'Chief Legal Officer',\n",
       "   'fiscalYear': 2023,\n",
       "   'exercisedValue': 0,\n",
       "   'unexercisedValue': 0},\n",
       "  {'maxAge': 1,\n",
       "   'name': 'Mr. Frank X. Shaw',\n",
       "   'title': 'Chief Communications Officer',\n",
       "   'fiscalYear': 2023,\n",
       "   'exercisedValue': 0,\n",
       "   'unexercisedValue': 0}],\n",
       " 'auditRisk': 3,\n",
       " 'boardRisk': 4,\n",
       " 'compensationRisk': 2,\n",
       " 'shareHolderRightsRisk': 2,\n",
       " 'overallRisk': 1,\n",
       " 'governanceEpochDate': 1722470400,\n",
       " 'compensationAsOfEpochDate': 1703980800,\n",
       " 'irWebsite': 'http://www.microsoft.com/investor/default.aspx',\n",
       " 'maxAge': 86400,\n",
       " 'priceHint': 2,\n",
       " 'previousClose': 424.14,\n",
       " 'open': 424.36,\n",
       " 'dayLow': 414.61,\n",
       " 'dayHigh': 426.78,\n",
       " 'regularMarketPreviousClose': 424.14,\n",
       " 'regularMarketOpen': 424.36,\n",
       " 'regularMarketDayLow': 414.61,\n",
       " 'regularMarketDayHigh': 426.78,\n",
       " 'dividendRate': 3.0,\n",
       " 'dividendYield': 0.0072000003,\n",
       " 'exDividendDate': 1723680000,\n",
       " 'payoutRatio': 0.2483,\n",
       " 'fiveYearAvgDividendYield': 0.91,\n",
       " 'beta': 0.894,\n",
       " 'trailingPE': 35.18628,\n",
       " 'forwardPE': 30.420937,\n",
       " 'volume': 18104879,\n",
       " 'regularMarketVolume': 18104879,\n",
       " 'averageVolume': 20207266,\n",
       " 'averageVolume10days': 18428600,\n",
       " 'averageDailyVolume10Day': 18428600,\n",
       " 'bid': 394.82,\n",
       " 'ask': 437.4,\n",
       " 'bidSize': 100,\n",
       " 'askSize': 100,\n",
       " 'marketCap': 3088799498240,\n",
       " 'fiftyTwoWeekLow': 309.45,\n",
       " 'fiftyTwoWeekHigh': 468.35,\n",
       " 'priceToSalesTrailing12Months': 12.601069,\n",
       " 'fiftyDayAverage': 435.0828,\n",
       " 'twoHundredDayAverage': 409.14044,\n",
       " 'trailingAnnualDividendRate': 3.0,\n",
       " 'trailingAnnualDividendYield': 0.007073136,\n",
       " 'currency': 'USD',\n",
       " 'enterpriseValue': 3111120011264,\n",
       " 'profitMargins': 0.35956,\n",
       " 'floatShares': 7422929449,\n",
       " 'sharesOutstanding': 7433039872,\n",
       " 'sharesShort': 57774674,\n",
       " 'sharesShortPriorMonth': 64474720,\n",
       " 'sharesShortPreviousMonthDate': 1719532800,\n",
       " 'dateShortInterest': 1722384000,\n",
       " 'sharesPercentSharesOut': 0.0078,\n",
       " 'heldPercentInsiders': 0.00052,\n",
       " 'heldPercentInstitutions': 0.73723,\n",
       " 'shortRatio': 2.89,\n",
       " 'shortPercentOfFloat': 0.0078,\n",
       " 'impliedSharesOutstanding': 7433039872,\n",
       " 'bookValue': 36.115,\n",
       " 'priceToBook': 11.506298,\n",
       " 'lastFiscalYearEnd': 1719705600,\n",
       " 'nextFiscalYearEnd': 1751241600,\n",
       " 'mostRecentQuarter': 1719705600,\n",
       " 'earningsQuarterlyGrowth': 0.097,\n",
       " 'netIncomeToCommon': 88135999488,\n",
       " 'trailingEps': 11.81,\n",
       " 'forwardEps': 13.66,\n",
       " 'pegRatio': 2.71,\n",
       " 'lastSplitFactor': '2:1',\n",
       " 'lastSplitDate': 1045526400,\n",
       " 'enterpriseToRevenue': 12.692,\n",
       " 'enterpriseToEbitda': 24.037,\n",
       " '52WeekChange': 0.28661215,\n",
       " 'SandP52WeekChange': 0.2644137,\n",
       " 'lastDividendValue': 0.75,\n",
       " 'lastDividendDate': 1723680000,\n",
       " 'exchange': 'NMS',\n",
       " 'quoteType': 'EQUITY',\n",
       " 'symbol': 'MSFT',\n",
       " 'underlyingSymbol': 'MSFT',\n",
       " 'shortName': 'Microsoft Corporation',\n",
       " 'longName': 'Microsoft Corporation',\n",
       " 'firstTradeDateEpochUtc': 511108200,\n",
       " 'timeZoneFullName': 'America/New_York',\n",
       " 'timeZoneShortName': 'EDT',\n",
       " 'uuid': 'b004b3ec-de24-385e-b2c1-923f10d3fb62',\n",
       " 'messageBoardId': 'finmb_21835',\n",
       " 'gmtOffSetMilliseconds': -14400000,\n",
       " 'currentPrice': 415.55,\n",
       " 'targetHighPrice': 537.86,\n",
       " 'targetLowPrice': 394.43,\n",
       " 'targetMeanPrice': 446.14,\n",
       " 'targetMedianPrice': 448.21,\n",
       " 'recommendationMean': 1.7,\n",
       " 'recommendationKey': 'buy',\n",
       " 'numberOfAnalystOpinions': 46,\n",
       " 'totalCash': 75531001856,\n",
       " 'totalCashPerShare': 10.162,\n",
       " 'ebitda': 129433001984,\n",
       " 'totalDebt': 97851998208,\n",
       " 'quickRatio': 1.141,\n",
       " 'currentRatio': 1.275,\n",
       " 'totalRevenue': 245122007040,\n",
       " 'debtToEquity': 36.447,\n",
       " 'revenuePerShare': 32.986,\n",
       " 'returnOnAssets': 0.14802,\n",
       " 'returnOnEquity': 0.37133,\n",
       " 'freeCashflow': 56705249280,\n",
       " 'operatingCashflow': 118547996672,\n",
       " 'earningsGrowth': 0.097,\n",
       " 'revenueGrowth': 0.152,\n",
       " 'grossMargins': 0.69764,\n",
       " 'ebitdaMargins': 0.52804,\n",
       " 'operatingMargins': 0.43143,\n",
       " 'financialCurrency': 'USD',\n",
       " 'trailingPegRatio': 2.2423}"
      ]
     },
     "execution_count": 15,
     "metadata": {},
     "output_type": "execute_result"
    }
   ],
   "source": []
  },
  {
   "cell_type": "code",
   "execution_count": 44,
   "metadata": {},
   "outputs": [],
   "source": [
    "class Wertpapier:\n",
    "    \"\"\"Sammelt die Attribute und Methoden von Wertpapieren\n",
    "    \n",
    "    Die Klasse soll die Attribute z.B. Ticker, ISIN, Asset-Klasse in sich vereinen.\n",
    "    \n",
    "    Args:\n",
    "        ticker (str): Yahoo Ticker zum Download von Daten.\n",
    "        isin (str): Offizelle ISIN (International Securities Identification Number)\n",
    "        assetclass (str): Gibt die Klassifizierung als Aktie, Rente, Aktienfonds, Rentenfonds, Mischfonds, Aktien-ETF, Renten-ETF, Kryptowährungen\n",
    "        name (str): Name des Wertpapiers\n",
    "        currency (str): Gibt die Währung des Instruments wieder.\n",
    "\n",
    "    \"\"\"\n",
    "    def __init__ (self, ticker):\n",
    "        self.ticker = ticker\n",
    "        self.assetclass = None\n",
    "        self.name = None\n",
    "        self.data = None\n",
    "        self.load_yf_data()\n",
    "        self.get_base_data()\n",
    "\n",
    "    def load_yf_data(self):\n",
    "        import yfinance as yf\n",
    "        self.data = yf.Ticker(self.ticker)\n",
    "\n",
    "    def get_base_data(self):\n",
    "        self.isin = self.data.isin\n",
    "        self.name = self.data.info['shortName']\n",
    "        self.sector = self.data.info['sector']\n",
    "        self.industry = self.data.info['industry']\n",
    "        self.country = self.data.info['country']\n",
    "        self.ccy = self.data.info['currency']\n",
    "        self.longBusinessSummary = self.data.info['longBusinessSummary']\n",
    "\n",
    "        "
   ]
  },
  {
   "cell_type": "code",
   "execution_count": 57,
   "metadata": {},
   "outputs": [
    {
     "name": "stdout",
     "output_type": "stream",
     "text": [
      "-\n",
      "Microsoft Corporation\n",
      "Microsoft Corporation develops and supports software, services, devices and solutions worldwide. The Productivity and Business Processes segment offers office, exchange, SharePoint, Microsoft Teams, office 365 Security and Compliance, Microsoft viva, and Microsoft 365 copilot; and office consumer services, such as Microsoft 365 consumer subscriptions, Office licensed on-premises, and other office services. This segment also provides LinkedIn; and dynamics business solutions, including Dynamics 365, a set of intelligent, cloud-based applications across ERP, CRM, power apps, and power automate; and on-premises ERP and CRM applications. The Intelligent Cloud segment offers server products and cloud services, such as azure and other cloud services; SQL and windows server, visual studio, system center, and related client access licenses, as well as nuance and GitHub; and enterprise services including enterprise support services, industry solutions, and nuance professional services. The More Personal Computing segment offers Windows, including windows OEM licensing and other non-volume licensing of the Windows operating system; Windows commercial comprising volume licensing of the Windows operating system, windows cloud services, and other Windows commercial offerings; patent licensing; and windows Internet of Things; and devices, such as surface, HoloLens, and PC accessories. Additionally, this segment provides gaming, which includes Xbox hardware and content, and first- and third-party content; Xbox game pass and other subscriptions, cloud gaming, advertising, third-party disc royalties, and other cloud services; and search and news advertising, which includes Bing, Microsoft News and Edge, and third-party affiliates. The company sells its products through OEMs, distributors, and resellers; and directly through digital marketplaces, online, and retail stores. The company was founded in 1975 and is headquartered in Redmond, Washington.\n",
      "United States\n"
     ]
    }
   ],
   "source": [
    "stock = Wertpapier('MSFT')\n",
    "\n",
    "print(stock.isin)\n",
    "print(stock.name)\n",
    "print(stock.longBusinessSummary)\n",
    "print(stock.country)\n"
   ]
  },
  {
   "cell_type": "code",
   "execution_count": 3,
   "metadata": {},
   "outputs": [
    {
     "data": {
      "text/plain": [
       "'AAPL'"
      ]
     },
     "execution_count": 3,
     "metadata": {},
     "output_type": "execute_result"
    }
   ],
   "source": [
    "aapl.ticker"
   ]
  },
  {
   "cell_type": "code",
   "execution_count": 57,
   "metadata": {},
   "outputs": [
    {
     "data": {
      "text/plain": [
       "'ticker'"
      ]
     },
     "execution_count": 57,
     "metadata": {},
     "output_type": "execute_result"
    }
   ],
   "source": [
    "aapl = Wertpapier('AAPL')\n",
    "aapl.ticker"
   ]
  },
  {
   "cell_type": "code",
   "execution_count": 88,
   "metadata": {},
   "outputs": [
    {
     "name": "stdout",
     "output_type": "stream",
     "text": [
      "Collecting openpyxl\n",
      "  Downloading openpyxl-3.1.5-py2.py3-none-any.whl.metadata (2.5 kB)\n",
      "Collecting et-xmlfile (from openpyxl)\n",
      "  Downloading et_xmlfile-1.1.0-py3-none-any.whl.metadata (1.8 kB)\n",
      "Downloading openpyxl-3.1.5-py2.py3-none-any.whl (250 kB)\n",
      "Downloading et_xmlfile-1.1.0-py3-none-any.whl (4.7 kB)\n",
      "Installing collected packages: et-xmlfile, openpyxl\n",
      "Successfully installed et-xmlfile-1.1.0 openpyxl-3.1.5\n"
     ]
    }
   ],
   "source": [
    "from io import BytesIO\n",
    "!pip install openpyxl\n",
    "\n",
    "\n",
    "class Template:\n",
    "    def __init__(self):\n",
    "        # Initialisiere ein leeres DataFrame mit den gewünschten Spalten\n",
    "        import pandas as pd\n",
    "        self.data = pd.DataFrame({\n",
    "            'Yahoo Ticker':['AAPL'],\n",
    "            'Kaufpreis':[140.43],\n",
    "            'Bestand':[30],\n",
    "            'Kaufdatum':['21.03.2023']\n",
    "            },index=None)\n",
    "\n",
    "\n",
    "    def to_excel(self):\n",
    "        # Speichere das DataFrame in einen BytesIO-Stream\n",
    "        output = BytesIO()\n",
    "        with pd.ExcelWriter(output, engine='openpyxl') as writer:\n",
    "            self.data.to_excel(writer, index=False)\n",
    "        return output.getvalue()"
   ]
  },
  {
   "cell_type": "code",
   "execution_count": 90,
   "metadata": {},
   "outputs": [
    {
     "name": "stdout",
     "output_type": "stream",
     "text": [
      "b'PK\\x03\\x04\\x14\\x00\\x00\\x00\\x08\\x00J\\x85\\x17YF\\xc7MH\\x95\\x00\\x00\\x00\\xcd\\x00\\x00\\x00\\x10\\x00\\x00\\x00docProps/app.xmlM\\xcfM\\x0b\\xc20\\x0c\\x06\\xe0\\xbfRv\\xb7\\x99\\x8a\\x1e\\xa4\\x0eD=\\x8a\\x9e\\xbc\\xcf.u\\x85\\xb6)m\\x84\\xfa\\xef\\xed\\x04?nyy\\xc8\\x1b\\xa2.\\x89\"&\\xb6\\x98E\\xf1.\\xe4m32\\xc7\\r@\\xd6#\\xfa>\\xcb\\xca\\xa1\\x8a\\xa1\\xe4{\\xae1\\xdd\\x81\\x8c\\xb1\\x1a\\x0f\\xa4\\x1f\\x1e\\x03\\xc3\\xa2m\\xd7\\x80\\x851\\x0c8\\xcc\\xe2\\xb7\\xb0\\xe9\\xd4.Fgu\\xcf\\x96Bw\\xb2:Q&\\xc3\\xe2X4:\\xb1\\'\\x1f\\xab\\xdc\\x1c\\n\\x10\\xe7z%>\\x8b\\x13K9\\x97+\\x05\\xff\\x8bS\\xcb\\x15S\\x9e\\xe6\\xcao\\xfcd\\x05\\xbf\\x07\\xba\\x17PK\\x03\\x04\\x14\\x00\\x00\\x00\\x08\\x00J\\x85\\x17Y\\xf2\\n\\xcc\\xb1\\xee\\x00\\x00\\x00+\\x02\\x00\\x00\\x11\\x00\\x00\\x00docProps/core.xml\\xcd\\x92\\xcfJ\\xc40\\x10\\x87_Ero\\xa7M\\x8bH\\xe8\\xe6\\xb2\\xe2IApA\\xf1\\x16\\x92\\xd9\\xdd`\\xf3\\x87d\\xa4\\xdd\\xb7\\xb7\\xad\\xbb]D\\x1f\\xc0cf~\\xf9\\xe6\\x1b\\x98NG\\xa1C\\xc2\\xe7\\x14\"&\\xb2\\x98oF\\xd7\\xfb,t\\xdc\\xb0#Q\\x14\\x00Y\\x1f\\xd1\\xa9\\\\N\\t?5\\xf7!9E\\xd33\\x1d *\\xfd\\xa1\\x0e\\x08\\xbc\\xaan\\xc1!)\\xa3H\\xc1\\x0c,\\xe2Jd\\xb23Z\\xe8\\x84\\x8aB:\\xe3\\x8d^\\xf1\\xf13\\xf5\\x0b\\xcch\\xc0\\x1e\\x1dz\\xcaP\\x97509O\\x8c\\xa7\\xb1\\xef\\xe0\\n\\x98a\\x84\\xc9\\xe5\\xef\\x02\\x9a\\x95\\xb8T\\xff\\xc4.\\x1d`\\xe7\\xe4\\x98\\xed\\x9a\\x1a\\x86\\xa1\\x1c\\x9a%7\\xedP\\xc3\\xdb\\xd3\\xe3\\xcb\\xb2na}&\\xe55N\\xbf\\xb2\\x15t\\x8a\\xb8a\\x97\\xc9\\xaf\\xcd\\xf6~\\xf7\\xc0$\\xafx[Tw\\x05ovu+Z.x\\xfd>\\xbb\\xfe\\xf0\\xbb\\n\\xbb`\\xec\\xde\\xfec\\xe3\\x8b\\xa0\\xec\\xe0\\xd7]\\xc8/PK\\x03\\x04\\x14\\x00\\x00\\x00\\x08\\x00J\\x85\\x17Y\\x99\\\\\\x9c#\\x10\\x06\\x00\\x00\\x9c\\'\\x00\\x00\\x13\\x00\\x00\\x00xl/theme/theme1.xml\\xedZ[s\\xda8\\x14~\\xef\\xaf\\xd0xg\\xf6m\\x0b\\xc66\\x81\\xb6\\xb4\\x13siv\\xdb\\xb4\\x99\\x84\\xedN\\x1f\\x85\\x11X\\x8dlyd\\x91\\x84\\x7f\\xbfG6\\x10\\xcb\\x96\\r\\xed\\x92M\\xba\\x9b<\\x04,\\xe9\\xfb\\xceEG\\xe7\\xe88y\\xf3\\xee.b\\xe8\\x86\\x88\\x94\\xf2x`\\xd9/\\xdb\\xd6\\xbb\\xb7/\\xde\\xe0W2$\\x11A0\\x19\\xa7\\xaf\\xf0\\xc0\\n\\xa5L^\\xb5Zi\\x00\\xc38}\\xc9\\x13\\x12\\xc3\\xdc\\x82\\x8b\\x08Kx\\x14\\xcb\\xd6\\\\\\xe0[\\x1a/#\\xd6\\xea\\xb4\\xdb\\xddV\\x84il\\xa1\\x18Gd`}^,h@\\xd0TQZo_ \\xb4\\xe5\\x1f3\\xf8\\x15\\xcbT\\x8de\\xa3\\x01\\x13WA&\\xb9\\x88\\xb4\\xf2\\xf9l\\xc5\\xfc\\xda\\xde>e\\xcf\\xe9:\\x1d2\\x81n0\\x1bX \\x7f\\xceo\\xa7\\xe4NZ\\x88\\xe1T\\xc2\\xc4\\xc0jg?Vk\\xc7\\xd1\\xd2H\\x80\\x82\\xc9}\\x94\\x05\\xbaI\\xf6\\xa3\\xd3\\x15\\x082\\r;:\\x9dX\\xcev|\\xf6\\xc4\\xed\\x9f\\x8c\\xca\\xdat4m\\x1a\\xe0\\xe3\\xf1x8\\xb6\\xcb\\xd2\\x8bp\\x1c\\x04\\xe0Q\\xbb\\x9e\\xc2\\x9d\\xf4l\\xbf\\xa4A\\t\\xb4\\xa3i\\xd0d\\xd8\\xf6\\xda\\xae\\x91\\xa6\\xaa\\x8dSO\\xd3\\xf7}\\xdf\\xeb\\x9bh\\x9c\\n\\x8d[O\\xd3kw\\xdd\\xd3\\x8e\\x89\\xc6\\xad\\xd0x\\r\\xbe\\xf1O\\x87\\xc3\\xae\\x89\\xc6\\xab\\xd0t\\xebi&\\'\\xfd\\xaek\\xa4\\xe9\\x16hBF\\xe3\\xebz\\x12\\x15\\xb5\\xe5@\\xd3 \\x00Xpv\\xd6\\xcc\\xd2\\x03\\x96^)\\xfau\\x94\\x1a\\xd9\\x1d\\xbb\\xddA\\\\\\xf0X\\xee9\\x89\\x11\\xfe\\xc6\\xc5\\x04\\xd6i\\xd2\\x19\\x964Fr\\x9d\\x90\\x05\\x0e\\x007\\xc4\\xd1LP|\\xafA\\xb6\\x8a\\xe0\\xc2\\x92\\xd2\\\\\\x90\\xd6\\xcf)\\xb5P\\x1a\\x08\\x9a\\xc8\\x81\\xf5G\\x82!\\xc5\\xdc\\xaf\\xfd\\xf5\\x97\\xbb\\xc9\\xa43z\\x9d}:\\xcek\\x94\\x7fi\\xab\\x01\\xa7\\xed\\xbb\\x9b\\xcf\\x93\\xfcs\\xe8\\xe4\\x9f\\xa7\\x93\\xd7MB\\xcep\\xbc,\\t\\xf1\\xfb#[a\\x87\\'n;\\x13r:\\x1cgB|\\xcf\\xf6\\xf6\\x91\\xa5%2\\xcf\\xef\\xf9\\n\\xebN<g\\x1fV\\x96\\xb0]\\xcf\\xcf\\xe4\\x9e\\x8cr#\\xbb\\xdd\\xf6X}\\xf6OGn#\\xd7\\xa9\\xc0\\xb3\"\\xd7\\x94F$E\\x9f\\xc8-\\xba\\xe4\\x118\\xb5I\\r2\\x13?\\x08\\x9d\\x86\\x98jP\\x1c\\x02\\xa4\\t1\\x96\\xa1\\x86\\xf8\\xb4\\xc6\\xac\\x11\\xe0\\x13}\\xb7\\xbe\\x08\\xc8\\xdf\\x8d\\x88\\xf7\\xabo\\x9a=W\\xa1XI\\xda\\x84\\xf8\\x10F\\x1a\\xe2\\x9cs\\xe6s\\xd1l\\xfb\\x07\\xa5F\\xd1\\xf6U\\xbc\\xdc\\xa3\\x97X\\x15\\x01\\x97\\x18\\xdf4\\xaa5,\\xc5\\xd6x\\x95\\xc0\\xf1\\xad\\x9c<\\x1d\\x13\\x12\\xcd\\x94\\x0b\\x06A\\x86\\x97$&\\x12\\xa99~MH\\x13\\xfe+\\xa5\\xda\\xfe\\x9c\\xd3@\\xf0\\x94/$\\xfaJ\\x91\\x8fi\\xb3#\\xa7t&\\xcd\\xe83\\x1a\\xc1F\\xaf\\x1bu\\x87h\\xd2<z\\xfe\\x05\\xf9\\x9c5\\n\\x1c\\x91\\x1b\\x1d\\x02g\\x1b\\xb3F!\\x84i\\xbb\\xf0\\x1e\\xaf$\\x8e\\x9a\\xad\\xc2\\x11+B>b\\x196\\x1ar\\xb5\\x16\\x81\\xb6q\\xa9\\x84`Z\\x12\\xc6\\xd1xN\\xd2\\xb4\\x11\\xfcY\\xac5\\x93>`\\xc8\\xec\\xcd\\x91u\\xce\\xd6\\x91\\x0e\\x11\\x92^7B>b\\xce\\x8b\\x90\\x11\\xbf\\x1e\\x868J\\x9a\\xed\\xa2qX\\x04\\xfd\\x9e^\\xc3I\\xc1\\xe8\\x82\\xcbf\\xfd\\xb8~\\x86\\xd53l,\\x8e\\xf7G\\xd4\\x17J\\xe4\\x0f&\\xa7?\\xe924\\x07\\xa3\\x9aY\\t\\xbd\\x84Vj\\x9f\\xaa\\x874>\\xa8\\x1e2\\n\\x05\\xf1\\xb9\\x1e>\\xe5zx\\n7\\x96\\xc6\\xbcP\\xae\\x82{\\x01\\xff\\xd1\\xda7\\xc2\\xab\\xf8\\x82\\xc09\\x7f.}\\xcf\\xa5\\xef\\xb9\\xf4=\\xa1\\xd2\\xb77#}g\\xc1\\xd3\\x8b[\\xdeFn[\\xc4\\xfb\\xae1\\xda\\xd74.(cWr\\xcd\\xc8\\xc7T\\xaf\\x93)\\xd89\\x9f\\xc0\\xec\\xfdh>\\x9e\\xf1\\xed\\xfa\\xd9$\\x84\\xaf\\x9aY-#\\x16\\x90K\\x81\\xb3A$\\xb8\\xfc\\x8b\\xca\\xf0*\\xc4\\t\\xe8d[%\\t\\xcbT\\xd3e7\\x8a\\x12\\x9eB\\x1bn\\xe9S\\xf5J\\x95\\xd7\\xe5\\xaf\\xb9(\\xb8<[\\xe4\\xe9\\xaf\\xa1t>,\\xcf\\xf9<_\\xe7\\xb4\\xcd\\x0b3C\\xb7rK\\xea\\xb6\\x94\\xbe\\xb5&8J\\xf4\\xb1\\xccpN\\x1e\\xcb\\x0c;g<\\x92\\x1d\\xb6w\\xa0\\x1d5\\xfb\\xf6]v\\xe4#\\xa50S\\x97C\\xb8\\x1aB\\xbe\\x03m\\xba\\x9d\\xdc:8\\x9e\\x98\\x91\\xb9\\n\\xd3R\\x90o\\xc3\\xf9\\xe9\\xc5x\\x1a\\xe29\\xd9\\x04\\xb9}\\x98Wm\\xe7\\xd8\\xd1\\xd1\\xfb\\xe7\\xc1Q\\xb0\\xa3\\xef<\\x96\\x1d\\xc7\\x88\\xf2\\xa2!\\xee\\xa1\\x86\\x98\\xcf\\xc3C\\x87y{_\\x98g\\x95\\xc6P4\\x14ml\\xac$,F\\xb7`\\xb8\\xd7\\xf1,\\x14\\xe0d`-\\xa0\\x07\\x83\\xafQ\\x02\\xf2RU`1[\\xc6\\x03+\\x90\\xa2|L\\x8cE\\xe8p\\xe7\\x97\\\\_\\xe3\\xd1\\x92\\xe3\\xdb\\xa6e\\xb5n\\xaf)w\\x19m\"R9\\xc2i\\x98\\x13g\\xab\\xca\\xdee\\xb1\\xc1U\\x1d\\xcfU[\\xf2\\xb0\\xbej=\\xb4\\x15N\\xcf\\xfeY\\xad\\xc8\\x9f\\x0c\\x11N\\x16\\x0b\\x12Hc\\x94\\x17\\xa6J\\xa2\\xf3\\x19S\\xbe\\xe7+I\\xc4U8\\xbfE3\\xb6\\x12\\x97\\x18\\xbc\\xe3\\xe6\\xc7qNS\\xb8\\x12v\\xb6\\x0f\\x022\\xb9\\xbb9\\xa9ze1g\\xa6\\xf2\\xdf-\\x0c\\t,[\\x88Y\\x12\\xe2M]\\xed\\xd5\\xe7\\x9b\\x9c\\xaez\"v\\xfa\\x97w\\xc1`\\xf2\\xfdp\\xc9G\\x0f\\xe5;\\xe7_\\xf4]C\\xae~\\xf6\\xdd\\xe3\\xfan\\x93;HL\\x9cy\\xc5\\x11\\x01tE\\x02#\\x95\\x1c\\x06\\x16\\x172\\xe4P\\xee\\x92\\x90\\x06\\x13\\x01\\xcd\\x94\\xc9D\\xf0\\x02\\x82d\\xa6\\x1c\\x80\\x98\\xfa\\x0b\\xbd\\xf2\\x0c\\xb9)\\x15\\xce\\xad>9\\x7fE,\\x83\\x86N^\\xd2%\\x12\\x14\\x8a\\xb0\\x0c\\x05!\\x17r\\xe3\\xef\\xef\\x93jw\\x8c\\xd7\\xfa,\\x81m\\x84T2d\\xd5\\x17\\xcaC\\x89\\xc1=3rC\\xd8T%\\xf3\\xae\\xda&\\x0b\\x85\\xdb\\xe2T\\xcd\\xbb\\x1a\\xbe&`K\\xc3zn\\x9d-\\'\\xff\\xdb^\\xd4=\\xb4\\x17=F\\xf3\\xa3\\x99\\xe0\\x1e\\xb3\\x87s\\x9bz\\xb8\\xc2E\\xac\\xffX\\xd6\\x1e\\xf92\\xdf9p\\xdb:\\xde\\x03^\\xe6\\x13,C\\xa4~\\xc1}\\x8a\\x8a\\x80\\x11\\xabb\\xbe\\xba\\xafO\\xf9%\\x9c;\\xb4{\\xf1\\x81 \\x9b\\xfc\\xd6\\xdb\\xa4\\xf6\\xdd\\xe0\\x0c|\\xd4\\xabZ\\xa5d+\\x11?K\\x07|\\x1f\\x92\\x06c\\x8c[\\xf44_\\x8f\\x14b\\xad\\xa6\\xb1\\xad\\xc6\\xda1\\x0cy\\x80X\\xf3\\x0c\\xa1f8\\xdf\\x87E\\x9a\\x1a3\\xd5\\x8b\\xac9\\x8d\\noA\\xd5@\\xe5?\\xdb\\xd4\\rh\\xf6\\r4\\x1c\\x91\\x05^1\\x99\\xb66\\xa3\\xe4N\\n<\\xdc\\xfe\\xef\\r\\xb0\\xc2\\xc4\\x8e\\xe1\\xed\\x8b\\xbf\\x01PK\\x03\\x04\\x14\\x00\\x00\\x00\\x08\\x00J\\x85\\x17Y5r\\xd9\\x89\\x9a\\x01\\x00\\x00\\x7f\\x03\\x00\\x00\\x18\\x00\\x00\\x00xl/worksheets/sheet1.xml\\x85S\\xdb\\x8e\\xd30\\x10\\xfd\\x15\\xcb\\x1f\\x10\\xa7\\xe9.\\xa0U\\x12\\xa9\\x17!\\x10 U\\xbb,\\x88G7\\x994VmO\\xb0\\'\\r\\xfc=v\\xdaFY\\xa9\\xbb<yn\\xe7\\xcc\\x9c\\xb1\\x9d\\x0f\\xe8\\x8e\\xbe\\x05 \\xf6\\xc7h\\xeb\\x0b\\xde\\x12u\\x0fB\\xf8\\xaa\\x05#}\\x82\\x1d\\xd8\\x90i\\xd0\\x19I\\xc1u\\x07\\xe1;\\x07\\xb2\\x1eAF\\x8b,M\\xdf\\t#\\x95\\xe5e>\\xc6v\\xae\\xcc\\xb1\\'\\xad,\\xec\\x1c\\xf3\\xbd1\\xd2\\xfd]\\x83\\xc6\\xa1\\xe0\\x0b~\\r<\\xaaCK1 \\xca\\xbc\\x93\\x07x\\x02z\\xeev.xbb\\xa9\\x95\\x01\\xeb\\x15Z\\xe6\\xa0)\\xf8j\\xf1\\xb0\\xcdb\\xfdX\\xf0C\\xc1\\xe0g6\\x8bJ\\xf6\\x88\\xc7\\xe8|\\xae\\x0b\\x9e\\xc6\\x81@CE\\x91A\\x86\\xe3\\x04\\x1b\\xd0:\\x12\\x851~_8\\xf9\\xd42\\x02\\xe7\\xf6\\x95\\xfd\\xe3\\xa8=h\\xd9K\\x0f\\x1b\\xd4?UMm\\xc1?pVC#{M\\x8f8|\\x82\\x8b\\x9e\\xfbi\\xc0\\xad$Y\\xe6\\x0e\\x07\\xe6\\xa2\\xce2\\xaf\\xa21\\xf6\\x1e\\x17\\x11\\xaa\\x95\\x8d[z\"\\x17\\xb2*\\xb4\\xa3\\xf2\\x97l\\x11\\xd9wU\\x1d\\xc1\\xe5\\x82\\xc281.\\xaa\\x0bz\\xfd6\\xfa\\x8b\\xec\\x9bp9\\xca\\xdf\\x80n\\xde\\x86\\xae\\xc1\\x93\\xb4\\xf5\\r\\xe0\\xf6\\xff=kI\\xbdy\\t\\x15A\\xf8\\xa4>\\x9b\\xd4g\\xaf\\xb0\\xacV\\xbb\\xaf\\xb7\\xf4\\x9e\\xeb\\xe3\\xdb:\\x95\\x8b\\xbb4\\xb9[\\xe6\\xe24W5/X\\xa6/\\x93\\xdb\\xd7\\xbae\\x8b$]&Y\\x9a-o\\r-f\\xd7\\x17\\x9f\\xe67\\xe9\\x0e\\xcaz\\xa6\\xa1\\tli\\xf2\\xfe\\x9e3w\\xbe\\xee\\xb3C\\xd8\\x8d\\xfb\\xd9#\\x11\\x9a\\xd1l\\xc3\\x0f\\x01\\x17\\x0bB\\xbeA\\xa4\\xab\\x13_\\xdb\\xf4\\xe7\\xca\\x7fPK\\x03\\x04\\x14\\x00\\x00\\x00\\x08\\x00J\\x85\\x17Y\\xe0\\xeePG\\xa9\\x02\\x00\\x00\\x16\\x0b\\x00\\x00\\r\\x00\\x00\\x00xl/styles.xml\\xddV\\xdb\\x8a\\xdb0\\x10\\xfd\\x15\\xe1\\x0f\\xa8\\x93\\x98\\x9a\\xb8\\xc4\\x816\\x10(\\xb4ea\\xf7\\xa1\\xafJ,\\xc7\\x02Yre9$\\xfb\\xf5\\x9d\\x91\\x1c\\xe7\\xb2\\x9a\\xa5\\xedc\\x136\\x1e\\xcd\\xd1\\x993\\x9a\\x19\\xe1]\\xf5\\xee\\xac\\xc4s#\\x84c\\xa7V\\xe9\\xbeL\\x1a\\xe7\\xbaOi\\xda\\xef\\x1b\\xd1\\xf2\\xfe\\x83\\xe9\\x84\\x06\\xa46\\xb6\\xe5\\x0e\\x96\\xf6\\x90\\xf6\\x9d\\x15\\xbc\\xea\\x91\\xd4\\xaat1\\x9b\\xe5i\\xcb\\xa5N\\xd6+=\\xb4\\xdb\\xd6\\xf5lo\\x06\\xed\\xcad\\x96\\xa4\\xebUm\\xf4\\xd5\\xb3H\\x82\\x03\\xb6\\xf2V\\xb0#We\\xb2\\xe1J\\xee\\xac\\xf4{y+\\xd59\\xb8\\x17\\xe8\\xd8\\x1be,s\\x90\\x8a(\\x939z\\xfa\\xd7\\x00\\xcf\\xc3\\n\\xb3\\x1c\\xe3\\xb4R\\x1b\\x8b\\xce4(\\x84\\xdf\\xdd\\xb8\\xfd\\x06\\xf0\\x8f\\x1e6H\\xa5\\xee3\\x03\\xc7z\\xd5q\\xe7\\x84\\xd5[Xx\\x8ew\\xbe\\x81\\xd8h\\xbf\\x9c;H\\xed`\\xf9y\\xbe\\xf8\\x98\\\\\\t\\xfe\\x01\";c+a\\xefd\\x82k\\xbdR\\xa2v@\\xb0\\xf2\\xd0\\xe0\\xd3\\x99.E\\xd09\\xd3\\x82QI~0\\x9a\\xfb\\x1c.\\x8c[&\\xf3\\xad+\\x13\\xd7@\\xe9/a\\x1e\\x9d\\x10\\xf3\\xd1\\x15\\x04\\x1e\\xbd\\x93\\xc4h@\\xe6{\\xa1\\xd43\\xee\\xfaYO\\xe9\\xcf!\\xfdS\\xcdB\\x9f\\xbfV\\xd8b\\x86\\xd5\\xbc\\x98p\\xe6\\xd1\\x0ca\\xc2\\x02\\xe3\\xdfF\\x0b\\xb1o\\xc2.\\xfe),\\xeb\\xe4\\xd1\\xb8/\\x03\\x9cG\\xfb\\xf5\\xaf\\xc18\\xf1dE-O~}\\xaa\\'}*\\xfa\\x9c\\x88\\x0e~\\xdeu\\xea\\xfcY\\xc9\\x83nE8\\xfb\\x1f\\x0b\\xaeW\\xfc\\xc2c\\x8d\\xb1\\xf2\\x15\\xd4p\\n\\xf7\\xe0\\x106aGa\\x9d\\xdc\\xa3\\x07\\x1a\\xe4\\xcbs\\xaa\\xc7\\x1aM\\xe5\\xf1\\xc5\\xba+\\xfc\\xe4exy\\xca\\xe4\\x07\\xdeIuUe\\xbbA*\\'\\xf5\\xb8jdU\\t\\xfd\\xa6\\xfe\\x10\\xde\\xf1\\x1d\\\\\\xfa\\xbb\\xf8\\xb0\\xbf\\x125\\x1f\\x94{\\x99\\xc02\\xb9\\xda\\xdfE%\\x87\\xb6\\x98v=a%\\xc6]W\\xfb\\x1b\\xce\\xe0<\\x9fn.hI]\\x89\\x93\\xa86\\xe3\\xd2\\x1ev\\xded`\\x80\\xea\\xf8\\xf1\\xf3\\xfb\\x80l\\xfd\\'\\x8eP\\x9c\\x80\\xc5\\x11\\xc4(\\x1d*\\x03\\x8a\\x13X\\x94\\xce\\xfft\\x9e%y\\x9e\\x80Q\\xb9-\\xa3\\xc8\\x92\\xe4,IN`\\xc5\\x90\\x8d\\xffR:qN\\x01\\x9f\\xf8I\\x8b\"\\xcb\\xf2\\x9c\\xaa\\xe8f\\x13\\xcd`C\\xd5-\\xcf\\xf1/\\x1e\\x8d\\xca\\r\\x19\\x94\\x0e*\\xfd]\\xad\\xe9n\\xd3\\x13\\xf2\\xfe\\x1cP=}oB\\xa8\\x93\\xd2\\x93H\\x9d\\x94\\xae5\"\\xf1\\xba!\\xa3(\\xe2\\xdd\\xa6t\\x90Au\\x81\\x9a\\x1d\\xd4\\x8f\\xeb\\xe0L\\xc59Y\\x86]\\xa5r\\xa3n0\\x8d\\x14\\x05\\x85\\xe0,\\xc6g4\\xcf\\x89\\xea\\xe4\\xf8\\x8d\\xf7\\x87\\xba%YV\\x14q\\x04\\xb1x\\x06YF!x\\x1bi\\x84\\xca\\x00s\\xa0\\x90,\\xf3\\xef\\xc1\\x87\\xf7QzyO\\xa5\\xd7\\xff\\x84\\xd7\\xbf\\x01PK\\x03\\x04\\x14\\x00\\x00\\x00\\x08\\x00J\\x85\\x17Y\\x97\\x8a\\xbb\\x1c\\xc0\\x00\\x00\\x00\\x13\\x02\\x00\\x00\\x0b\\x00\\x00\\x00_rels/.rels\\x9d\\x92\\xb9n\\xc30\\x0c@\\x7f\\xc5\\xd0\\x9e0\\x07\\xd0!\\x883e\\xf1\\x16\\x04\\xf9\\x01V\\xa2\\x0f\\xd8\\x12\\x05\\x8aE\\x9d\\xbf\\xaf\\xda\\xa5q\\x90\\x0b\\x19y=<\\x12\\xdc\\x1ei@\\xed8\\xa4\\xb6\\x8b\\xa9\\x18\\xfd\\x10RiZ\\xd5\\xb8\\x01H\\xb6%\\x8fi\\xce\\x91B\\xae\\xd4,\\x1e5\\x87\\xd2@D\\xdbcC\\xb0Z,>@.\\x19f\\xb7\\xbdd\\x16\\xa7s\\xa4W\\x88\\\\\\xd7\\x9d\\xa5=\\xdb/OAo\\x80\\xaf:LqBiHK3\\x0e\\xf0\\xcd\\xd2\\x7f2\\xf7\\xf3\\x0c5E\\xe5J#\\x95[\\x1ax\\xd3\\xe5\\xfev\\xe0I\\xd1\\xa1\"X\\x16\\x9aE\\xc9\\xd3\\xa2\\x1d\\xa5\\x7f\\x1d\\xc7\\xf6\\x90\\xd3\\xe9\\xafc\"\\xb4z[\\xe8\\xf9qhT\\n\\x8e\\xdcc%\\x8cqb\\xb4\\xfe5\\x82\\xc9\\x0f\\xec~\\x00PK\\x03\\x04\\x14\\x00\\x00\\x00\\x08\\x00J\\x85\\x17Y\\x1a\\xba\\x1b\\xab0\\x01\\x00\\x00#\\x02\\x00\\x00\\x0f\\x00\\x00\\x00xl/workbook.xml\\x8dQ\\xd1J\\xc3@\\x10\\xfc\\x95p\\x1f`R\\xd1\\x82\\xa5\\xe9\\x8bE-\\x88\\x16+}\\xbf$\\x9bf\\xe9\\xddm\\xd8\\xdb\\xb4\\xda\\xafw\\x93\\x10,\\xf8\\xe2\\xd3\\xde\\xce,\\xc3\\xcc\\xdc\\xf2L|,\\x88\\x8e\\xc9\\x97w!\\xe6\\xa6\\x11i\\x17i\\x1a\\xcb\\x06\\xbc\\x8d7\\xd4BP\\xa6&\\xf6Vt\\xe5C\\x1a[\\x06[\\xc5\\x06@\\xbcKo\\xb3l\\x9ez\\x8b\\xc1\\xac\\x96\\x93\\xd6\\x96\\xd3\\xeb\\x85\\x04JA\\n\\n\\xf6\\xc0\\x1e\\xe1\\x1c\\x7f\\xf9~MN\\x18\\xb1@\\x87\\xf2\\x9d\\x9b\\xe1\\xed\\xc0$\\x1e\\x03z\\xbc@\\x95\\x9b\\xcc$\\xb1\\xa1\\xf3\\x0b1^(\\x88u\\xbb\\x92\\xc9\\xb9\\xdc\\xccFb\\x0f,X\\xfe\\x81w\\xbd\\xc9O[\\xc4\\x01\\x11[|X5\\x92\\x9by\\xa6\\x825r\\x94\\xe1b\\xd0\\xb7\\xea\\xf1\\x04z<n\\x9d\\xd0\\x13:\\x01^[\\x81g\\xa6\\xae\\xc5p\\xe8e4Ez\\x15c\\xe8a\\x9ac\\x89\\x0b\\xfeO\\x8dT\\xd7X\\xc2\\x9a\\xca\\xceC\\x90\\xb1G\\x06\\xd7\\x1b\\x0c\\xb1\\xc16\\x9a$X\\x0f\\xb9\\x19,\\x0e\\x81tn\\xaa1\\x9c\\xa8\\xab\\xab\\xaax\\x81J\\xf0\\xa6\\x1a\\xfdM\\xa6*\\xa81@\\xf5\\xa6:Qq-\\xa8\\xdcr\\xd2\\x8fA\\xe7\\xf6\\xee~\\xf6\\xa0Et\\xce=*\\xf6\\x1e^\\xc9VS\\xc6\\xe9\\x7fV?PK\\x03\\x04\\x14\\x00\\x00\\x00\\x08\\x00J\\x85\\x17Y$\\x1e\\x9b\\xa2\\xad\\x00\\x00\\x00\\xf8\\x01\\x00\\x00\\x1a\\x00\\x00\\x00xl/_rels/workbook.xml.rels\\xb5\\x91=\\x0e\\x830\\x0c\\x85\\xaf\\x12\\xe5\\x005P\\xa9C\\x05L]X+.\\x10\\x05\\xf3#\\x12\\x12\\xc5\\xae\\n\\xb7/\\x85\\x01\\x90:ta\\xb2\\x9e-\\x7f\\xef\\xc9N\\x9fh\\x14wn\\xa0\\xb6\\xf3$Fk\\x06\\xcad\\xcb\\xec\\xef\\x00\\xa4[\\xb4\\x8a.\\xce\\xe30Oj\\x17\\xac\\xe2Y\\x86\\x06\\xbc\\xd2\\xbdj\\x10\\x92(\\xbaA\\xd83d\\x9e\\xee\\x99\\xa2\\x9c<\\xfeCtu\\xddi|8\\xfd\\xb28\\xf0\\x0f0\\xbc]\\xe8\\xa9Ed)J\\x15\\x1a\\xe4L\\xc2h\\xb66\\xc1R\\xe2\\xcbL\\x96\\xa2\\xa82\\x19\\x8a*\\x96pZ \\xe2\\xc9 miV}\\xb0ON\\xb4\\xe7y\\x177\\xf7E\\xae\\xcd\\xe3\\t\\xae\\xdf\\x0cpxt\\xfe\\x01PK\\x03\\x04\\x14\\x00\\x00\\x00\\x08\\x00J\\x85\\x17Ye\\x90y\\x92\\x19\\x01\\x00\\x00\\xcf\\x03\\x00\\x00\\x13\\x00\\x00\\x00[Content_Types].xml\\xad\\x93MN\\xc30\\x10\\x85\\xaf\\x12e[%.,X\\xa0\\xa6\\x1b`\\x0b]p\\x01cO\\x1a\\xab\\xfe\\x93gZ\\xd2\\xdb3N\\xdaJ\\xa0\\x12\\x15\\x85M\\xacx\\xde\\xbc\\xcf\\x9e\\x97\\xac\\xde\\x8f\\x11\\xb0\\xe8\\x9d\\xf5\\xd8\\x94\\x1dQ|\\x14\\x02U\\x07Nb\\x1d\"x\\xae\\xb4!9I\\xfc\\x9a\\xb6\"J\\xb5\\x93[\\x10\\xf7\\xcb\\xe5\\x83P\\xc1\\x13x\\xaa({\\x94\\xeb\\xd53\\xb4ro\\xa9x\\xe9y\\x1bM\\xf0M\\x99\\xc0bY<\\x8d\\xc2\\xccjJ\\x19\\xa35J\\x12\\xd7\\xc5\\xc1\\xeb\\x1f\\x94\\xeaD\\xa8\\xb9s\\xd0`g\".XP\\x8a\\xab\\x84\\\\\\xf9\\x1dp\\xea{;@JFC\\xb1\\x91\\x89^\\xa5c\\x95\\xe8\\xad@:Z\\xc0z\\xda\\xe2\\xca\\x19C\\xdb\\x1a\\x05:\\xa8\\xbd\\xe3\\x96\\x1ac\\x02\\xa9\\xb1\\x03 g\\xeb\\xd1t1M&\\x9e0\\x8c\\xcf\\xbb\\xd9\\xfc\\xc1f\\n\\xc8\\xcaM\\n\\x119\\xb1\\x04\\x7f\\xc7\\x9d#\\xc9\\xddUd#Hd\\xa6\\xafx!\\xb2\\xf5\\xec\\xfbAN[\\x83\\xbe\\x91\\xcd\\xe3\\xfd\\x0ci7\\xe4\\x81bX\\xe6\\xcf\\xf8{\\xc6\\x17\\xff\\x1b\\xce\\xf1\\x11\\xc2\\xee\\xbf?\\xb1\\xbc\\xd6N\\x1a\\x7f\\xe6\\x8b\\xe1?^\\x7f\\x01PK\\x01\\x02\\x14\\x03\\x14\\x00\\x00\\x00\\x08\\x00J\\x85\\x17YF\\xc7MH\\x95\\x00\\x00\\x00\\xcd\\x00\\x00\\x00\\x10\\x00\\x00\\x00\\x00\\x00\\x00\\x00\\x00\\x00\\x00\\x00\\x80\\x01\\x00\\x00\\x00\\x00docProps/app.xmlPK\\x01\\x02\\x14\\x03\\x14\\x00\\x00\\x00\\x08\\x00J\\x85\\x17Y\\xf2\\n\\xcc\\xb1\\xee\\x00\\x00\\x00+\\x02\\x00\\x00\\x11\\x00\\x00\\x00\\x00\\x00\\x00\\x00\\x00\\x00\\x00\\x00\\x80\\x01\\xc3\\x00\\x00\\x00docProps/core.xmlPK\\x01\\x02\\x14\\x03\\x14\\x00\\x00\\x00\\x08\\x00J\\x85\\x17Y\\x99\\\\\\x9c#\\x10\\x06\\x00\\x00\\x9c\\'\\x00\\x00\\x13\\x00\\x00\\x00\\x00\\x00\\x00\\x00\\x00\\x00\\x00\\x00\\x80\\x01\\xe0\\x01\\x00\\x00xl/theme/theme1.xmlPK\\x01\\x02\\x14\\x03\\x14\\x00\\x00\\x00\\x08\\x00J\\x85\\x17Y5r\\xd9\\x89\\x9a\\x01\\x00\\x00\\x7f\\x03\\x00\\x00\\x18\\x00\\x00\\x00\\x00\\x00\\x00\\x00\\x00\\x00\\x00\\x00\\x80\\x81!\\x08\\x00\\x00xl/worksheets/sheet1.xmlPK\\x01\\x02\\x14\\x03\\x14\\x00\\x00\\x00\\x08\\x00J\\x85\\x17Y\\xe0\\xeePG\\xa9\\x02\\x00\\x00\\x16\\x0b\\x00\\x00\\r\\x00\\x00\\x00\\x00\\x00\\x00\\x00\\x00\\x00\\x00\\x00\\x80\\x01\\xf1\\t\\x00\\x00xl/styles.xmlPK\\x01\\x02\\x14\\x03\\x14\\x00\\x00\\x00\\x08\\x00J\\x85\\x17Y\\x97\\x8a\\xbb\\x1c\\xc0\\x00\\x00\\x00\\x13\\x02\\x00\\x00\\x0b\\x00\\x00\\x00\\x00\\x00\\x00\\x00\\x00\\x00\\x00\\x00\\x80\\x01\\xc5\\x0c\\x00\\x00_rels/.relsPK\\x01\\x02\\x14\\x03\\x14\\x00\\x00\\x00\\x08\\x00J\\x85\\x17Y\\x1a\\xba\\x1b\\xab0\\x01\\x00\\x00#\\x02\\x00\\x00\\x0f\\x00\\x00\\x00\\x00\\x00\\x00\\x00\\x00\\x00\\x00\\x00\\x80\\x01\\xae\\r\\x00\\x00xl/workbook.xmlPK\\x01\\x02\\x14\\x03\\x14\\x00\\x00\\x00\\x08\\x00J\\x85\\x17Y$\\x1e\\x9b\\xa2\\xad\\x00\\x00\\x00\\xf8\\x01\\x00\\x00\\x1a\\x00\\x00\\x00\\x00\\x00\\x00\\x00\\x00\\x00\\x00\\x00\\x80\\x01\\x0b\\x0f\\x00\\x00xl/_rels/workbook.xml.relsPK\\x01\\x02\\x14\\x03\\x14\\x00\\x00\\x00\\x08\\x00J\\x85\\x17Ye\\x90y\\x92\\x19\\x01\\x00\\x00\\xcf\\x03\\x00\\x00\\x13\\x00\\x00\\x00\\x00\\x00\\x00\\x00\\x00\\x00\\x00\\x00\\x80\\x01\\xf0\\x0f\\x00\\x00[Content_Types].xmlPK\\x05\\x06\\x00\\x00\\x00\\x00\\t\\x00\\t\\x00>\\x02\\x00\\x00:\\x11\\x00\\x00\\x00\\x00'\n"
     ]
    }
   ],
   "source": [
    "tmp = Template()\n",
    "excel = tmp.to_excel()"
   ]
  }
 ],
 "metadata": {
  "kernelspec": {
   "display_name": "Python 3",
   "language": "python",
   "name": "python3"
  },
  "language_info": {
   "codemirror_mode": {
    "name": "ipython",
    "version": 3
   },
   "file_extension": ".py",
   "mimetype": "text/x-python",
   "name": "python",
   "nbconvert_exporter": "python",
   "pygments_lexer": "ipython3",
   "version": "3.11.9"
  }
 },
 "nbformat": 4,
 "nbformat_minor": 2
}
